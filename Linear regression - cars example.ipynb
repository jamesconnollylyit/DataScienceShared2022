{
 "cells": [
  {
   "cell_type": "markdown",
   "metadata": {},
   "source": [
    "## Working through an example - car stopping distances\n",
    "The **cars** dataset contains stopping distances of cars from 1920’s. First we’ll analyse and understand the variables.\n",
    "\n",
    "The aim of this exercise - build a simple regression model that we can use to predict Distance (dist) by establishing a statistically significant linear relationship with Speed (speed)."
   ]
  },
  {
   "cell_type": "markdown",
   "metadata": {},
   "source": [
    "## First step - checking model assumptions\n",
    "Linear models, as with any kind of models, require that we check their assumptions to justify their application. The accuracy and interpretability of the results comes from adhering to a model's assumptions. \n",
    "\n",
    "Sometimes these will be rigorous assumptions in the sense that if they are not strictly met, then the model is not considered to be valid at all. Other times, we will be working with more flexible assumptions in which a degree of\n",
    "criteria from the analyst will come into play.\n",
    "\n",
    "For linear models, the following are some of the core assumptions: <br> \n",
    "**Linearity:** There is a linear relation among the variables <br> \n",
    "**Normality:** Residuals are normally distributed <br> \n",
    "**Homoscedasticity:** Residuals have constant variance <br> \n",
    "**No collinearity:** Variables are not linear combinations of each other <br> \n",
    "**Independence:** Residuals are independent or at least not correlated <br> \n",
    "\n",
    "The independence assumption is probably the most difficult assumption to test, and you can generally handle it with common sense and understanding how the data was collected.\n",
    "\n",
    "First lets understand the **cars** dataset variables graphically. Typically, for each of the independent variables (predictors), the following plots are drawn to visualise their behaviour:<br>\n",
    "\n",
    "**Scatter plot:** Visualise the linear relationship between the predictor and response.<br>\n",
    "**Box plot:** To spot any outlier observations in the variable. Having outliers in your predictor can drastically affect the predictions as they can easily affect the direction/slope of the line of best fit.<br>\n",
    "**Density plot:** To see the distribution of the predictor variable. Ideally, a close to normal distribution (a bell shaped curve), without being skewed to the left or right is preferred. <br>\n",
    "\n",
    "Let us see how to make each one of them.\n"
   ]
  },
  {
   "cell_type": "markdown",
   "metadata": {},
   "source": [
    "### Checking linearity\n",
    "\n",
    "A basic way of checking the linearity assumption is to make a **scatter plot** with the dependent variable in the `y axis` and an independent variable in the `x axis`. If the relation appears to be linear, **the assumption is validated**. \n",
    "\n",
    "In any interesting problem it's extremely hard to find a scatter plot that shows a very clear linear relation, and if it does happen we should be a little suspicious and careful with the data."
   ]
  },
  {
   "cell_type": "code",
   "execution_count": 9,
   "metadata": {},
   "outputs": [
    {
     "data": {
      "image/png": "[encoded data removed]",
      "text/plain": [
       "Plot with title \"Distance ~ Speed\""
      ]
     },
     "metadata": {
      "image/png": {
       "height": 420,
       "width": 420
      },
      "text/plain": {
       "height": 420,
       "width": 420
      }
     },
     "output_type": "display_data"
    }
   ],
   "source": [
    "scatter.smooth(x = cars$dist, \n",
    "               y = cars$speed, \n",
    "               main = \"Distance ~ Speed\",\n",
    "               xlab = \"Car speed\",\n",
    "               ylab = \"Stopping distance\")"
   ]
  },
  {
   "cell_type": "markdown",
   "metadata": {},
   "source": [
    "The scatter plot along with the smoothing line above suggests a linearly increasing relationship between the `dist` and `speed` variables. \n",
    "\n",
    "This is good because, one of the underlying assumptions in linear regression is that the relationship between the response and predictor variables is linear and additive.\n",
    "\n",
    "We can also use the `ggplot` function as we did with Brexit data during descriptive statistics assessment (see Blackboard)."
   ]
  },
  {
   "cell_type": "code",
   "execution_count": 10,
   "metadata": {},
   "outputs": [
    {
     "name": "stderr",
     "output_type": "stream",
     "text": [
      "Warning message:\n",
      "\"package 'ggplot2' was built under R version 3.6.3\"\n",
      "Warning message:\n",
      "\"Ignoring unknown parameters: regression\"\n",
      "`geom_smooth()` using formula 'y ~ x'\n",
      "\n"
     ]
    },
    {
     "data": {
      "image/png": "[encoded data removed]",
      "text/plain": [
       "plot without title"
      ]
     },
     "metadata": {
      "image/png": {
       "height": 420,
       "width": 420
      },
      "text/plain": {
       "height": 420,
       "width": 420
      }
     },
     "output_type": "display_data"
    }
   ],
   "source": [
    "library(ggplot2)\n",
    "plot <- ggplot(cars, aes(x = speed, y = dist))\n",
    "plot <- plot + stat_smooth(method = \"lm\", col = \"darkgrey\", regression = TRUE)\n",
    "plot <- plot + scale_color_viridis_c()\n",
    "plot <- plot + geom_point()\n",
    "print(plot)"
   ]
  },
  {
   "cell_type": "markdown",
   "metadata": {},
   "source": [
    "### Correlation\n",
    "Correlation is a statistical measure that suggests the level of linear dependence between two variables, that occur in pairs – just like what we have here in speed and dist. Correlation can take values between -1 to +1. \n",
    "\n",
    "If we observe for every instance where speed increases, the distance also increases along with it, then there is a high positive correlation between them and therefore the correlation between them will be closer to +1. \n",
    "\n",
    "The opposite is true for an inverse relationship, in which case, the correlation between the variables will be close to -1.\n",
    "\n",
    "A value closer to 0 suggests a weak relationship between the variables. \n",
    "\n",
    "A low correlation (-0.2 < x < 0.2) probably suggests that much of variation of the response variable (Y) is unexplained by the predictor (X), in which case, we should probably look for better explanatory variables."
   ]
  },
  {
   "cell_type": "code",
   "execution_count": 11,
   "metadata": {},
   "outputs": [
    {
     "data": {
      "text/html": [
       "0.80689490068921"
      ],
      "text/latex": [
       "0.80689490068921"
      ],
      "text/markdown": [
       "0.80689490068921"
      ],
      "text/plain": [
       "[1] 0.8068949"
      ]
     },
     "metadata": {},
     "output_type": "display_data"
    }
   ],
   "source": [
    "cor(cars$speed, cars$dist)"
   ]
  },
  {
   "cell_type": "markdown",
   "metadata": {},
   "source": [
    "This is a high correlation value and suggests a high positive correlation between both variables."
   ]
  },
  {
   "cell_type": "markdown",
   "metadata": {},
   "source": [
    "### Checking for outliers\n",
    "Generally, any data point that lies outside the **1.5 * interquartile-range (1.5 * IQR)** is considered an outlier,\n",
    "\n",
    "Where:\n",
    "\n",
    "**IQR** is calculated as the distance between the 25th percentile and 75th percentile values for that variable.\n",
    "\n",
    "We’ll need to check both distance and speed."
   ]
  },
  {
   "cell_type": "code",
   "execution_count": 12,
   "metadata": {},
   "outputs": [
    {
     "data": {
      "image/png": "[encoded data removed]",
      "text/plain": [
       "Plot with title \"Distance\""
      ]
     },
     "metadata": {
      "image/png": {
       "height": 420,
       "width": 420
      },
      "text/plain": {
       "height": 420,
       "width": 420
      }
     },
     "output_type": "display_data"
    }
   ],
   "source": [
    "opar <- par(no.readonly = TRUE)\n",
    "par(mfrow = c(1, 2)) # divide graph area in 2 columns\n",
    "attach(cars)\n",
    "boxplot(speed, \n",
    "        main = \"Speed\", \n",
    "        sub = paste(\"Outlier rows: \", \n",
    "                    boxplot.stats(speed)$out)) # box plot for 'speed'\n",
    "\n",
    "boxplot(dist, \n",
    "        main = \"Distance\", \n",
    "        sub = paste(\"Outlier rows: \", \n",
    "                    boxplot.stats(dist)$out)) # box plot for 'distance'\n",
    "\n",
    "detach(cars)\n",
    "par <- opar"
   ]
  },
  {
   "cell_type": "markdown",
   "metadata": {},
   "source": [
    "The boxplots suggest that there is 1 outlier in the data in the distance variable where the speed is **120**."
   ]
  },
  {
   "cell_type": "code",
   "execution_count": 13,
   "metadata": {},
   "outputs": [
    {
     "data": {
      "text/html": [
       "50"
      ],
      "text/latex": [
       "50"
      ],
      "text/markdown": [
       "50"
      ],
      "text/plain": [
       "[1] 50"
      ]
     },
     "metadata": {},
     "output_type": "display_data"
    }
   ],
   "source": [
    "nrow(cars)"
   ]
  },
  {
   "cell_type": "code",
   "execution_count": 14,
   "metadata": {},
   "outputs": [],
   "source": [
    "cars <- subset(cars, cars$dist!=120)"
   ]
  },
  {
   "cell_type": "code",
   "execution_count": 15,
   "metadata": {},
   "outputs": [
    {
     "data": {
      "text/html": [
       "49"
      ],
      "text/latex": [
       "49"
      ],
      "text/markdown": [
       "49"
      ],
      "text/plain": [
       "[1] 49"
      ]
     },
     "metadata": {},
     "output_type": "display_data"
    }
   ],
   "source": [
    "nrow(cars)"
   ]
  },
  {
   "cell_type": "code",
   "execution_count": 16,
   "metadata": {},
   "outputs": [
    {
     "data": {
      "image/png": "[encoded data removed]",
      "text/plain": [
       "Plot with title \"Distance\""
      ]
     },
     "metadata": {
      "image/png": {
       "height": 420,
       "width": 420
      },
      "text/plain": {
       "height": 420,
       "width": 420
      }
     },
     "output_type": "display_data"
    }
   ],
   "source": [
    "boxplot(cars$dist, \n",
    "        main = \"Distance\", \n",
    "        sub = paste(\"Outlier rows: \", \n",
    "                    boxplot.stats(cars$dist)$out)) # box plot for 'distance'"
   ]
  },
  {
   "cell_type": "markdown",
   "metadata": {},
   "source": [
    "### Checking normality with histograms and quantilequantile plots\n",
    "We will check normality with two different techniques so that we can exemplify the usage of a technique known as the strategy pattern, which is part of a set of patterns from object oriented programming."
   ]
  },
  {
   "cell_type": "markdown",
   "metadata": {},
   "source": [
    "We can use the e1071 library to access skewness function and show in our plot"
   ]
  },
  {
   "cell_type": "code",
   "execution_count": 17,
   "metadata": {
    "scrolled": true
   },
   "outputs": [
    {
     "name": "stderr",
     "output_type": "stream",
     "text": [
      "Warning message:\n",
      "\"package 'e1071' was built under R version 3.6.3\"\n"
     ]
    },
    {
     "data": {
      "image/png": "[encoded data removed]",
      "text/plain": [
       "Plot with title \"Density Plot: Speed\""
      ]
     },
     "metadata": {
      "image/png": {
       "height": 420,
       "width": 420
      },
      "text/plain": {
       "height": 420,
       "width": 420
      }
     },
     "output_type": "display_data"
    }
   ],
   "source": [
    "# Skewness function to examine normality of data\n",
    "#install.packages(\"e1071\")\n",
    "library(e1071)\n",
    "# divide graph area in 2 columns\n",
    "par(mfrow = c(1, 2))\n",
    "# density plot for 'speed'\n",
    "plot(density(cars$speed), main = \"Density Plot: Speed\", \n",
    "     ylab = \"Frequency\", \n",
    "     sub = paste(\"Skewness:\", \n",
    "                 round(e1071::skewness(cars$speed), 2)))\n",
    "\n",
    "# Lets fill in the area under the density plot in red\n",
    "polygon(density(cars$speed), col = \"red\")\n",
    "# Minimal skewness = -0.11 - slightly skewed to the left\n",
    "# NB - skewness <-1 or >1 = highly skewed\n",
    "# -1 to -05 and 0.5 to 1 = moderately skewed\n",
    "# -0.5 to 0-5 = approx symetric"
   ]
  },
  {
   "cell_type": "markdown",
   "metadata": {},
   "source": [
    "The plot shows minimal skewness with the data.\n",
    "\n",
    "Minimal skewness = -0.11 - slightly skewed to the left.<br>\n",
    "NB a skewness value <-1 or >1 = highly skewed.<br>\n",
    "Skewness -1 to -05 and 0.5 to 1 = moderately skewed.<br>\n",
    "And skewness -0.5 to 0-5 = approx symetric.<br>"
   ]
  },
  {
   "cell_type": "markdown",
   "metadata": {},
   "source": [
    "No we need to repat this for the `distance` variable."
   ]
  },
  {
   "cell_type": "code",
   "execution_count": 18,
   "metadata": {
    "scrolled": true
   },
   "outputs": [
    {
     "data": {
      "image/png": "[encoded data removed]",
      "text/plain": [
       "Plot with title \"Density Plot: Distance\""
      ]
     },
     "metadata": {
      "image/png": {
       "height": 420,
       "width": 420
      },
      "text/plain": {
       "height": 420,
       "width": 420
      }
     },
     "output_type": "display_data"
    }
   ],
   "source": [
    "# density plot for 'dist'\n",
    "plot(density(cars$dist), \n",
    "     main = \"Density Plot: Distance\", \n",
    "     ylab = \"Frequency\", \n",
    "     sub = paste(\"Skewness:\", \n",
    "                 round(e1071::skewness(cars$dist), 2))) \n",
    "polygon(density(cars$dist), col = \"red\")\n"
   ]
  },
  {
   "cell_type": "markdown",
   "metadata": {},
   "source": [
    "We can also examine normality using the `qqnorm()` function and a histogram of "
   ]
  },
  {
   "cell_type": "code",
   "execution_count": 19,
   "metadata": {},
   "outputs": [
    {
     "data": {
      "image/png": "[encoded data removed]",
      "text/plain": [
       "Plot with title \"Normal Q-Q Plot\""
      ]
     },
     "metadata": {
      "image/png": {
       "height": 420,
       "width": 420
      },
      "text/plain": {
       "height": 420,
       "width": 420
      }
     },
     "output_type": "display_data"
    }
   ],
   "source": [
    "opar <- par(no.readonly = TRUE)\n",
    "par(mfrow = c(1, 2)) # divide graph area in 2 columns\n",
    "hist(cars$dist, main = \"Normality proportion of distance\", xlab = \"Distance\")\n",
    "\n",
    "qqnorm(cars$dist)\n",
    "qqline(cars$dist)\n",
    "par <- opar"
   ]
  },
  {
   "cell_type": "markdown",
   "metadata": {},
   "source": [
    "As you can see, the histogram shows an approximate normal distribution of distance that is slightly skewed\n",
    "towards the left, but we can easily accept it as being normal. \n",
    "\n",
    "The corresponding quantilequantile plot shows the same information in a slightly different way. The line it shows\n",
    "corresponds to the quantiles of the normal distribution, and the dots show the actual distribution in the data. The closer these dots are to the line, the closer the variable's distribution is to being normally distributed. \n",
    "\n",
    "As we can see, for the most part, distance is normally distributed, and it's at the extremes that we can see a slight deviation, which probably comes from the fact that our distance variable actually has hard limits at 0\n",
    "and 1. However, we can also accept it as being normally distributed, and we can proceed to the next assumption safely."
   ]
  },
  {
   "cell_type": "markdown",
   "metadata": {},
   "source": [
    "### Training and testing datasets\n",
    "\n",
    "For us to be able to measure the predictive accuracy of our models, we need to use some observations to validate our results. This means that our data will be split into two different groups:<br>\n",
    "**Training data**<br>\n",
    "**testing data**\n",
    "\n",
    "Training data is used to extract knowledge and learn the relationship among variables. We specify the number of observations that will be picked for the training data as around 70% of the total number of observations available, and use the `replace = FALSE` command to specify that the picked observations may not be duplicated (by avoiding\n",
    "a sample with replacement).\n",
    "\n",
    "The testing data is composed of the remaining 30% of the observations. Since `sample` is a `Boolean` vector that contains a `TRUE` or `FALSE` value for each observation to specify whether or not it should be included, respectively, we can negate the vector to pick the other part of the data by prepending a minus sign (-) to the binary vector, effectively making every `TRUE` value a `FALSE` value, and vice versa. To understand this, let's look at the following code:"
   ]
  },
  {
   "cell_type": "code",
   "execution_count": 20,
   "metadata": {},
   "outputs": [],
   "source": [
    "set.seed(1)\n",
    "no_rows_data <- nrow(cars)\n",
    "sample <- sample(1:no_rows_data, size = round(0.7 * no_rows_data), replace = FALSE)\n",
    "\n",
    "training_data <- cars[sample, ]\n",
    "testing_data <- cars[-sample, ]"
   ]
  },
  {
   "cell_type": "markdown",
   "metadata": {},
   "source": [
    "Now we can build the linear model using the training data."
   ]
  },
  {
   "cell_type": "code",
   "execution_count": 21,
   "metadata": {},
   "outputs": [],
   "source": [
    "linearMod <- lm(dist ~ speed, data = training_data)"
   ]
  },
  {
   "cell_type": "markdown",
   "metadata": {},
   "source": [
    "Before using a regression model, we have to ensure that it is statistically significant. \n",
    "Lets begin by printing the summary statistics for it."
   ]
  },
  {
   "cell_type": "code",
   "execution_count": 22,
   "metadata": {
    "scrolled": false
   },
   "outputs": [
    {
     "data": {
      "text/plain": [
       "\n",
       "Call:\n",
       "lm(formula = dist ~ speed, data = training_data)\n",
       "\n",
       "Coefficients:\n",
       "(Intercept)        speed  \n",
       "    -15.563        3.831  \n"
      ]
     },
     "metadata": {},
     "output_type": "display_data"
    }
   ],
   "source": [
    "linearMod"
   ]
  },
  {
   "cell_type": "code",
   "execution_count": 23,
   "metadata": {
    "scrolled": true
   },
   "outputs": [
    {
     "data": {
      "text/plain": [
       "\n",
       "Call:\n",
       "lm(formula = dist ~ speed, data = training_data)\n",
       "\n",
       "Residuals:\n",
       "    Min      1Q  Median      3Q     Max \n",
       "-29.058  -9.022  -2.241   8.876  41.928 \n",
       "\n",
       "Coefficients:\n",
       "            Estimate Std. Error t value Pr(>|t|)    \n",
       "(Intercept)  -15.562      7.071  -2.201   0.0351 *  \n",
       "speed          3.831      0.432   8.869 3.93e-10 ***\n",
       "---\n",
       "Signif. codes:  0 '***' 0.001 '**' 0.01 '*' 0.05 '.' 0.1 ' ' 1\n",
       "\n",
       "Residual standard error: 14.69 on 32 degrees of freedom\n",
       "Multiple R-squared:  0.7108,\tAdjusted R-squared:  0.7018 \n",
       "F-statistic: 78.65 on 1 and 32 DF,  p-value: 3.928e-10\n"
      ]
     },
     "metadata": {},
     "output_type": "display_data"
    }
   ],
   "source": [
    "summary(linearMod)"
   ]
  },
  {
   "cell_type": "markdown",
   "metadata": {},
   "source": [
    "Recall: a linear model is statistically significant only when both p-values are less that the pre-determined statistical significance level (ideally 0.05). \n",
    "This is visually interpreted by the significance stars at the end of the row. The more the stars beside the variable’s p-Value, the more significant the variable.\n",
    "\n",
    "Model p-value = 1.298e-09\n",
    "\n",
    "The column `t value` shows the t-test associated with testing the significance of the parameter listed in the first column. \n",
    "\n",
    "For example the t value of 8.869 refers to the t-test of the Speed 3.831 divided by the standard error of that estimate 0.432. \n",
    "\n",
    "Pr(>|t|) gives the p-value for that t-test. The asterisks following the Pr(>|t|) provide a visually accessible way of assessing whether the statistic met various α criterions.\n",
    "\n",
    "A large t-value indicates that it is less likely the coefficient is not equal to zero purely by chance. So, higher the t-value, the better.\n",
    "\n",
    "Pr(>|t|) or p-value is the probability that you get a t-value as high or higher than the observed value when the Null Hypothesis (the β coefficient is equal to zero or that there is no relationship) is true. \n",
    "\n",
    "So if the Pr(>|t|) is low, the coefficients are significant (significantly different from zero). \n",
    "\n",
    "If the Pr(>|t|) is high, the coefficients are not significant."
   ]
  },
  {
   "cell_type": "markdown",
   "metadata": {},
   "source": [
    "### AIC and BIC\n",
    "The Akaike’s Information Criterion - AIC (Akaike, 1974) and the Bayesian Information Criterion - BIC (Schwarz, 1978) are measures of the goodness of fit of an estimated statistical model and can also be used for model selection. \n",
    "\n",
    "Both criteria depend on the maximised value of the likelihood function L for the estimated model.\n",
    "For model comparison, the model with the lowest AIC and BIC score is preferred.\n"
   ]
  },
  {
   "cell_type": "code",
   "execution_count": 24,
   "metadata": {},
   "outputs": [
    {
     "data": {
      "text/html": [
       "283.172383866899"
      ],
      "text/latex": [
       "283.172383866899"
      ],
      "text/markdown": [
       "283.172383866899"
      ],
      "text/plain": [
       "[1] 283.1724"
      ]
     },
     "metadata": {},
     "output_type": "display_data"
    }
   ],
   "source": [
    "AIC(linearMod)"
   ]
  },
  {
   "cell_type": "code",
   "execution_count": 25,
   "metadata": {},
   "outputs": [
    {
     "data": {
      "text/html": [
       "287.751465440748"
      ],
      "text/latex": [
       "287.751465440748"
      ],
      "text/markdown": [
       "287.751465440748"
      ],
      "text/plain": [
       "[1] 287.7515"
      ]
     },
     "metadata": {},
     "output_type": "display_data"
    }
   ],
   "source": [
    "BIC(linearMod)"
   ]
  },
  {
   "cell_type": "markdown",
   "metadata": {},
   "source": [
    "# Predicting data using the model\n",
    "Now we will predict distance values and see how they compare with the testing data."
   ]
  },
  {
   "cell_type": "code",
   "execution_count": 30,
   "metadata": {},
   "outputs": [],
   "source": [
    "predicted_distance <- predict(linearMod, testing_data)"
   ]
  },
  {
   "cell_type": "markdown",
   "metadata": {},
   "source": [
    "A simple correlation between the actuals and predicted values can be used as a form of accuracy measure. \n",
    "A higher correlation accuracy implies that actual and predicted values have similar directional movement, i.e. when the actuals values increase the predicted values also increase and vice-versa."
   ]
  },
  {
   "cell_type": "code",
   "execution_count": 34,
   "metadata": {
    "scrolled": true
   },
   "outputs": [
    {
     "data": {
      "text/html": [
       "<table>\n",
       "<caption>A data.frame: 6 × 2</caption>\n",
       "<thead>\n",
       "\t<tr><th></th><th scope=col>actuals</th><th scope=col>predicted</th></tr>\n",
       "\t<tr><th></th><th scope=col>&lt;dbl&gt;</th><th scope=col>&lt;dbl&gt;</th></tr>\n",
       "</thead>\n",
       "<tbody>\n",
       "\t<tr><th scope=row>8</th><td>26</td><td>22.74759</td></tr>\n",
       "\t<tr><th scope=row>11</th><td>28</td><td>26.57860</td></tr>\n",
       "\t<tr><th scope=row>13</th><td>20</td><td>30.40961</td></tr>\n",
       "\t<tr><th scope=row>16</th><td>26</td><td>34.24062</td></tr>\n",
       "\t<tr><th scope=row>17</th><td>34</td><td>34.24062</td></tr>\n",
       "\t<tr><th scope=row>19</th><td>46</td><td>34.24062</td></tr>\n",
       "</tbody>\n",
       "</table>\n"
      ],
      "text/latex": [
       "A data.frame: 6 × 2\n",
       "\\begin{tabular}{r|ll}\n",
       "  & actuals & predicted\\\\\n",
       "  & <dbl> & <dbl>\\\\\n",
       "\\hline\n",
       "\t8 & 26 & 22.74759\\\\\n",
       "\t11 & 28 & 26.57860\\\\\n",
       "\t13 & 20 & 30.40961\\\\\n",
       "\t16 & 26 & 34.24062\\\\\n",
       "\t17 & 34 & 34.24062\\\\\n",
       "\t19 & 46 & 34.24062\\\\\n",
       "\\end{tabular}\n"
      ],
      "text/markdown": [
       "\n",
       "A data.frame: 6 × 2\n",
       "\n",
       "| <!--/--> | actuals &lt;dbl&gt; | predicted &lt;dbl&gt; |\n",
       "|---|---|---|\n",
       "| 8 | 26 | 22.74759 |\n",
       "| 11 | 28 | 26.57860 |\n",
       "| 13 | 20 | 30.40961 |\n",
       "| 16 | 26 | 34.24062 |\n",
       "| 17 | 34 | 34.24062 |\n",
       "| 19 | 46 | 34.24062 |\n",
       "\n"
      ],
      "text/plain": [
       "   actuals predicted\n",
       "8  26      22.74759 \n",
       "11 28      26.57860 \n",
       "13 20      30.40961 \n",
       "16 26      34.24062 \n",
       "17 34      34.24062 \n",
       "19 46      34.24062 "
      ]
     },
     "metadata": {},
     "output_type": "display_data"
    }
   ],
   "source": [
    "# make actuals_predicted dataframe.\n",
    "actuals_predictions <- data.frame(cbind(actuals = testing_data$dist, predicted = predicted_distance))\n",
    "head(actuals_predictions)"
   ]
  },
  {
   "cell_type": "code",
   "execution_count": 35,
   "metadata": {
    "scrolled": true
   },
   "outputs": [
    {
     "data": {
      "text/html": [
       "<table>\n",
       "<caption>A matrix: 2 × 2 of type dbl</caption>\n",
       "<thead>\n",
       "\t<tr><th></th><th scope=col>actuals</th><th scope=col>predicted</th></tr>\n",
       "</thead>\n",
       "<tbody>\n",
       "\t<tr><th scope=row>actuals</th><td>1.0000000</td><td>0.4741563</td></tr>\n",
       "\t<tr><th scope=row>predicted</th><td>0.4741563</td><td>1.0000000</td></tr>\n",
       "</tbody>\n",
       "</table>\n"
      ],
      "text/latex": [
       "A matrix: 2 × 2 of type dbl\n",
       "\\begin{tabular}{r|ll}\n",
       "  & actuals & predicted\\\\\n",
       "\\hline\n",
       "\tactuals & 1.0000000 & 0.4741563\\\\\n",
       "\tpredicted & 0.4741563 & 1.0000000\\\\\n",
       "\\end{tabular}\n"
      ],
      "text/markdown": [
       "\n",
       "A matrix: 2 × 2 of type dbl\n",
       "\n",
       "| <!--/--> | actuals | predicted |\n",
       "|---|---|---|\n",
       "| actuals | 1.0000000 | 0.4741563 |\n",
       "| predicted | 0.4741563 | 1.0000000 |\n",
       "\n"
      ],
      "text/plain": [
       "          actuals   predicted\n",
       "actuals   1.0000000 0.4741563\n",
       "predicted 0.4741563 1.0000000"
      ]
     },
     "metadata": {},
     "output_type": "display_data"
    }
   ],
   "source": [
    "correlation_accuracy <- cor(actuals_predictions)\n",
    "correlation_accuracy"
   ]
  },
  {
   "cell_type": "markdown",
   "metadata": {},
   "source": [
    "The model show us that it has 47% colleration accuracy."
   ]
  },
  {
   "cell_type": "markdown",
   "metadata": {},
   "source": [
    "Now we’ll calculate min max accuracy and mean absolute percentage error (MAPE) which is a measure of prediction accuracy."
   ]
  },
  {
   "cell_type": "code",
   "execution_count": 36,
   "metadata": {},
   "outputs": [
    {
     "data": {
      "text/html": [
       "0.763705718749492"
      ],
      "text/latex": [
       "0.763705718749492"
      ],
      "text/markdown": [
       "0.763705718749492"
      ],
      "text/plain": [
       "[1] 0.7637057"
      ]
     },
     "metadata": {},
     "output_type": "display_data"
    }
   ],
   "source": [
    "# Min - max accuracy\n",
    "min_max_accuracy <- mean(apply(actuals_predictions, 1, min) / apply(actuals_predictions, 1, max))\n",
    "min_max_accuracy"
   ]
  },
  {
   "cell_type": "code",
   "execution_count": 37,
   "metadata": {},
   "outputs": [
    {
     "data": {
      "text/html": [
       "0.329598238608011"
      ],
      "text/latex": [
       "0.329598238608011"
      ],
      "text/markdown": [
       "0.329598238608011"
      ],
      "text/plain": [
       "[1] 0.3295982"
      ]
     },
     "metadata": {},
     "output_type": "display_data"
    }
   ],
   "source": [
    "# MAPE\n",
    "mape <- mean(abs((actuals_predictions$predicted - actuals_predictions$actuals)) / actuals_predictions$actuals)\n",
    "mape"
   ]
  },
  {
   "cell_type": "markdown",
   "metadata": {},
   "source": [
    "### k-fold\n",
    "Suppose, the model predicts satisfactorily on the 20% split (test data). Is that enough to believe that our model will perform equally well all the time? \n",
    "It is important to rigorously test the model’s performance as much as possible. One way is to ensure that the model equation you have will perform well when it is ‘built’ on a different subset of training data and predicted on the remaining data.\n",
    "\n",
    "How do we do this?\n",
    "\n",
    "Split your data into ‘k’ mutually exclusive random sample portions. Keep each portion as test data and build the model on the remaining (k-1 portion) data and calculate the mean squared error of the predictions. \n",
    "\n",
    "This is done for each of the ‘k’ random sample portions. Then finally, the average of these mean squared errors (for ‘k’ portions) is computed. We can use this metric to compare different linear models.\n",
    "\n",
    "By doing this, we need to check two things:<br>\n",
    "    If the model’s prediction accuracy isn’t varying too much for any one particular sample<br>\n",
    "    If the lines of best fit don’t vary too much with respect the slope and level.<br>\n",
    "    \n",
    "In other words, they should be parallel and as close to each other as possible.\n",
    "We use the `DAAG` library to do this and use the `CVlm()` function – cross-validation for linear regression.\n",
    "`CVlm()` gives internal and cross-validation measures of predictive accuracy for multiple linear regression. \n",
    "The data are randomly assigned to a number of **folds**. Each fold is removed, in turn, while the remaining data is used to re-fit the regression model and to predict at the deleted observations."
   ]
  },
  {
   "cell_type": "code",
   "execution_count": 38,
   "metadata": {},
   "outputs": [
    {
     "name": "stderr",
     "output_type": "stream",
     "text": [
      "Warning message:\n",
      "\"package 'DAAG' was built under R version 3.6.3\"\n",
      "Loading required package: lattice\n",
      "\n"
     ]
    },
    {
     "data": {
      "image/png": "[encoded data removed]",
      "text/plain": [
       "Plot with title \"Small symbols are predicted values while bigger ones are actuals.\""
      ]
     },
     "metadata": {
      "image/png": {
       "height": 420,
       "width": 420
      },
      "text/plain": {
       "height": 420,
       "width": 420
      }
     },
     "output_type": "display_data"
    }
   ],
   "source": [
    "#install.packages(\"DAAG\")\n",
    "library(DAAG)\n",
    "cvResults <- suppressWarnings(CVlm(data = cars, \n",
    "                                   form.lm = dist ~ speed, \n",
    "                                   m = 5, \n",
    "                                   dots = FALSE, \n",
    "                                   seed = 1, \n",
    "                                   legend.pos = \"topleft\", \n",
    "                                   printit = FALSE, \n",
    "                                   main = \"Small symbols are predicted values while bigger ones are actuals.\"));"
   ]
  },
  {
   "cell_type": "markdown",
   "metadata": {},
   "source": [
    "Are the dashed lines parallel? \n",
    "Are large and small symbols evenly dispersed for each colour?"
   ]
  },
  {
   "cell_type": "markdown",
   "metadata": {},
   "source": [
    "Here's how we can predict a single value from the model. In this simple example, I'm creating a dataframe with a singel value in it which contains the cars speed."
   ]
  },
  {
   "cell_type": "code",
   "execution_count": 55,
   "metadata": {},
   "outputs": [],
   "source": [
    "df <- data.frame(speed = c(100))"
   ]
  },
  {
   "cell_type": "code",
   "execution_count": 56,
   "metadata": {
    "scrolled": false
   },
   "outputs": [],
   "source": [
    "predicted_distance <- predict(linearMod, df)"
   ]
  },
  {
   "cell_type": "code",
   "execution_count": 57,
   "metadata": {},
   "outputs": [
    {
     "data": {
      "text/html": [
       "<strong>1:</strong> 367.538637519064"
      ],
      "text/latex": [
       "\\textbf{1:} 367.538637519064"
      ],
      "text/markdown": [
       "**1:** 367.538637519064"
      ],
      "text/plain": [
       "       1 \n",
       "367.5386 "
      ]
     },
     "metadata": {},
     "output_type": "display_data"
    }
   ],
   "source": [
    "predicted_distance"
   ]
  }
 ],
 "metadata": {
  "kernelspec": {
   "display_name": "R",
   "language": "R",
   "name": "ir"
  },
  "language_info": {
   "codemirror_mode": "r",
   "file_extension": ".r",
   "mimetype": "text/x-r-source",
   "name": "R",
   "pygments_lexer": "r",
   "version": "3.6.1"
  }
 },
 "nbformat": 4,
 "nbformat_minor": 4
}
