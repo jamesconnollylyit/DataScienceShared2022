{
 "cells": [
  {
   "cell_type": "markdown",
   "metadata": {},
   "source": [
    "# Introduction\n",
    "In many ways, regression analysis lives at the heart of statistics. It’s a broad term for a set of methodologies used to predict a response variable (also called a dependent, criterion, or outcome variable) from one or more predictor variables (also called independent or explanatory variables).\n",
    "\n",
    "Regression analysis can be used to identify the explanatory variables that are related to a response variable, to describe the form of the relationships involved, and to provide an equation for predicting the response variable from the explanatory variables.\n",
    "\n",
    "The term **regression** can be confusing because there are so many specialised varieties. In addition, R has powerful and comprehensive features for fitting regression models, and the abundance of options can be confusing as well.\n",
    "\n",
    "We’ll focus on regression methods described as **Ordinary Least Squares (OLS)** regression, including: <br>\n",
    "**Simple linear regression** - Predicting a quantitative response variable from a quantitative explanatory variable.<br>\n",
    "**Polynomial regression** - Predicting a quantitative response variable from a quantitative explanatory variable, where the relationship is modelled as an nth order polynomial.<br>\n",
    "**Multiple linear regression** - Predicting a quantitative response variable from two or more explanatory variables.<br>\n",
    "\n",
    "OLS regression is the most common variety of statistical analysis today."
   ]
  },
  {
   "cell_type": "markdown",
   "metadata": {},
   "source": [
    "## Goal of OLS regression\n",
    "The goal of OLS regression is to select model parameters (intercept and slopes) that minimise the difference between actual response values and those predicted by the model. \n",
    "\n",
    "Specifically, model parameters are selected to minimise the sum of squared residuals. To properly interpret the coefficients of the OLS model, you must satisfy a number of statistical assumptions:<br>\n",
    "**Normality** - For fixed values of the independent variables, the dependent variable is normally distributed.<br>\n",
    "**Independence** - The Y<sub>i</sub> values are independent of each other.<br>\n",
    "**Linearity** - The dependent variable is linearly related to the independent variables.<br>\n",
    "**Variance** - dependent variable doesn’t vary with the levels of the independent variables.<br>\n",
    "\n",
    "If you violate these assumptions, your statistical significance tests and confidence intervals may not be accurate.\n",
    "**Note** that OLS regression also assumes that the independent variables are fixed and measured without error, but this assumption is typically relaxed in practice."
   ]
  },
  {
   "cell_type": "markdown",
   "metadata": {},
   "source": [
    "## Fitting regression models\n",
    "In R, the basic **function** for fitting a linear model is lm(). The format is<br>\n",
    "\n",
    "\t\tmy_fit <- lm(formula, data)\n",
    "where <br>\n",
    "**formula** - describes the model to be fit.<br>\n",
    "**data** - the data frame containing the data to be used in fitting the model.<br>\n",
    "\n",
    "The resulting object (`my_fit`) is a list that contains extensive information about the fitted model.<br>\n",
    "\n",
    "The formula part of the **function** is typically written as<br>\n",
    "        **Y ~ X1 + X2 + ... + Xk**\n",
    "        \n",
    "In this formula the **~** separates the dependent (response) variable on the left from the independent (predictor) variables on the right.\n",
    "\n",
    "And the predictor variables are separated by + signs. Other symbols can be used to modify the formula in various ways."
   ]
  },
  {
   "cell_type": "markdown",
   "metadata": {},
   "source": [
    "## Simple linear regression\n",
    "Simple linear regression is a statistical method that allows us to summarise and study relationships between two continuous (quantitative) variables:\n",
    "One variable, denoted `x` is regarded as the predictor, explanatory, or independent variable. \n",
    "\n",
    "The other variable, denoted `y` is regarded as the response, outcome, or dependent variable. \n",
    "Because the other terms are used less frequently today, we'll use the **predictor** and **response** terms to refer to the variables. The other terms are mentioned only to make you aware of them.\n",
    "\n",
    "Simple linear regression gets its adjective **simple** because it concerns the study of only one predictor variable. \n",
    "\n",
    "In contrast, multiple linear regression gets its adjective **multiple** because it concerns the study of two or more predictor variables.\n",
    "\n",
    "We are interested in statistical relationships, in which the relationship between the variables is not perfect."
   ]
  },
  {
   "cell_type": "markdown",
   "metadata": {},
   "source": [
    "# Simple example - demonstration of linear principles\n",
    "We’ll examine the relationship between `height` and `weight` for 15 women between ages 30 – 39 using the built-in dataset called `women`.\n",
    "\n",
    "We want to predict weight from height. Having an equation for predicting weight from height can help us to identify overweight or underweight individuals."
   ]
  },
  {
   "cell_type": "code",
   "execution_count": 2,
   "metadata": {},
   "outputs": [],
   "source": [
    "# Demo uses the dataset \"women\" containing \n",
    "# height and weight for 15 women aged between 30 - 39\n",
    "# dependent variable = weight\n",
    "# independent variable = height\n",
    "simple_linear_model <- lm(weight ~ height, data=women)"
   ]
  },
  {
   "cell_type": "markdown",
   "metadata": {},
   "source": [
    "Lets view the model. This shows us the intercept and beta coefficient for `height` variable \n",
    "\n",
    "ie weight = -87.52 + 3.45 x height."
   ]
  },
  {
   "cell_type": "code",
   "execution_count": 3,
   "metadata": {},
   "outputs": [
    {
     "data": {
      "text/plain": [
       "\n",
       "Call:\n",
       "lm(formula = weight ~ height, data = women)\n",
       "\n",
       "Coefficients:\n",
       "(Intercept)       height  \n",
       "     -87.52         3.45  \n"
      ]
     },
     "metadata": {},
     "output_type": "display_data"
    }
   ],
   "source": [
    "simple_linear_model"
   ]
  },
  {
   "cell_type": "markdown",
   "metadata": {},
   "source": [
    "We can use the `plot()` function to show this information.  \n",
    "\n",
    "The graph shows a linearly increasing relationshio between height and weight. Remember that one assumption of linear regression is that the relationship between response (`weight`) and predictor (`height`) variables is linear and additive."
   ]
  },
  {
   "cell_type": "code",
   "execution_count": 4,
   "metadata": {},
   "outputs": [
    {
     "data": {
      "image/png": "[encoded data removed]",
      "text/plain": [
       "Plot with title \"Scatter plot showing regression line\n",
       "     for weight prdicted from height\""
      ]
     },
     "metadata": {
      "image/png": {
       "height": 420,
       "width": 420
      },
      "text/plain": {
       "height": 420,
       "width": 420
      }
     },
     "output_type": "display_data"
    }
   ],
   "source": [
    "plot(women$height,women$weight,\n",
    "     xlab=\"Height (in inches)\",\n",
    "     ylab=\"Weight (in pounds)\",\n",
    "     main = \"Scatter plot showing regression line\n",
    "     for weight prdicted from height\")\n",
    "abline(simple_linear_model)"
   ]
  },
  {
   "cell_type": "markdown",
   "metadata": {},
   "source": [
    "We can have a more detailed look at the data using the `summary()` function."
   ]
  },
  {
   "cell_type": "code",
   "execution_count": 5,
   "metadata": {
    "scrolled": true
   },
   "outputs": [
    {
     "data": {
      "text/plain": [
       "\n",
       "Call:\n",
       "lm(formula = weight ~ height, data = women)\n",
       "\n",
       "Residuals:\n",
       "    Min      1Q  Median      3Q     Max \n",
       "-1.7333 -1.1333 -0.3833  0.7417  3.1167 \n",
       "\n",
       "Coefficients:\n",
       "             Estimate Std. Error t value Pr(>|t|)    \n",
       "(Intercept) -87.51667    5.93694  -14.74 1.71e-09 ***\n",
       "height        3.45000    0.09114   37.85 1.09e-14 ***\n",
       "---\n",
       "Signif. codes:  0 '***' 0.001 '**' 0.01 '*' 0.05 '.' 0.1 ' ' 1\n",
       "\n",
       "Residual standard error: 1.525 on 13 degrees of freedom\n",
       "Multiple R-squared:  0.991,\tAdjusted R-squared:  0.9903 \n",
       "F-statistic:  1433 on 1 and 13 DF,  p-value: 1.091e-14\n"
      ]
     },
     "metadata": {},
     "output_type": "display_data"
    }
   ],
   "source": [
    "summary(simple_linear_model)"
   ]
  },
  {
   "cell_type": "markdown",
   "metadata": {},
   "source": [
    "The output of `summary()` shows us some important inforamtion.<br>\n",
    "\n",
    "`Call` -  Shows the function call used to compute the regression model.<br>\n",
    "`Residuals` - Provide a quick view of the distribution of the residuals, which by definition have a mean zero. Therefore, median should not be far from zero, and the minimum and maximum should be roughly equal in absolute value.<br>\n",
    "`Coefficients` - shows the regression beta coefficients and their statistical significance. Predictor variables that are significantly associated to the outcome variable are marked by stars. The standard errors (SE) defines the accuracy of beta coefficients. For a given beta coefficient, the SE reflects how the coefficient varies under repeated sampling. It can be used to compute the confidence intervals and the t-statistic.\n",
    "\n",
    "The `t-statistic` and the associated `p-value` defines the statistical significance of the beta coefficients. The t-statistic measures the number of standard deviations that the beta coefficient b is away from 0. Thus a large t-statistic will produce a small p-value. The higher the t-statistic (and the lower the p-value), the more significant the predictor. \n",
    "\n",
    "The symbols to the right visually specifies the level of significance. The line below the table shows the definition of these symbols; one star means 0.01 < p < 0.05. The more the stars beside the variable’s p-value, the more significant the variable.<br>\n",
    "\n",
    "**Recall** - Hypothesis are as follows<br>\n",
    "**H0** - coefficients are equal to zero (i.e., no relationship between x and y)<br>\n",
    "**H1** - coefficients are not equal to zero (i.e., there is some relationship between x and y)<br>\n",
    "\n",
    "\n",
    "`Residual standard error (RSE)`, R-squared (R2) and the F-statistic are metrics that are used to check how well the model fits to our data. The standard error measures the variability/accuracy of the beta coefficients. It can be used to compute the confidence intervals of the coefficients.\n",
    "\n",
    "For example, the 95% confidence interval for the coefficient b1 is defined as \n",
    "\t\t\tb1 +/- 2*SE(b1)\n",
    "where:<br>\n",
    "the lower limits of b1 = b1 - 2*SE(b1) = 3.45 - 2*0.09114 = 3.253112<br>\n",
    "the upper limits of b1 = b1 + 2*SE(b1) = 3.45 + 2*0.09114 = 3.646888<br>\n",
    "That is, there is approximately a 95% chance that the interval **3.25, 3.64** will contain the true value of b1. <br>\n",
    "Similarly the 95% confidence interval for b0 can be computed as b0 +/- 2*SE(b0).<br>\n",
    "\n",
    "\n",
    "\n",
    "This informarion shows us that the prediction equation for **height i** is defined as:\n",
    "\n",
    "**weight = -87.52 + 3.45 x height**\n",
    "\n",
    "Since a `height` of 0 is imposible, we wouldn't give a physical representation to the intercept. It is just an adjustment constant."
   ]
  },
  {
   "cell_type": "markdown",
   "metadata": {},
   "source": [
    "# Correlation co-efficiant\n",
    "The correlation coefficient measures the level of the association between two variables. Its value ranges between -1 (perfect negative correlation: x increases, y decreases)  and +1 (perfect positive correlation: when x increases, y increases).\n",
    "\n",
    "A value closer to 0 suggests a weak relationship between the variables. A low correlation (-0.2 < x < 0.2) probably suggests that much of variation of the outcome variable (y) is not explained by the predictor (x). \n",
    "\n",
    "In such case, we should probably look for better predictor variables.\n",
    "\n",
    "Lets examine the correlation between the `women` dataset for `height` and `weight` variables.\n",
    "\n",
    "To get this confidence information described above, type the following:"
   ]
  },
  {
   "cell_type": "code",
   "execution_count": 6,
   "metadata": {},
   "outputs": [
    {
     "data": {
      "text/html": [
       "<table>\n",
       "<caption>A matrix: 2 × 2 of type dbl</caption>\n",
       "<thead>\n",
       "\t<tr><th></th><th scope=col>2.5 %</th><th scope=col>97.5 %</th></tr>\n",
       "</thead>\n",
       "<tbody>\n",
       "\t<tr><th scope=row>(Intercept)</th><td>-100.342655</td><td>-74.690679</td></tr>\n",
       "\t<tr><th scope=row>height</th><td>   3.253112</td><td>  3.646888</td></tr>\n",
       "</tbody>\n",
       "</table>\n"
      ],
      "text/latex": [
       "A matrix: 2 × 2 of type dbl\n",
       "\\begin{tabular}{r|ll}\n",
       "  & 2.5 \\% & 97.5 \\%\\\\\n",
       "\\hline\n",
       "\t(Intercept) & -100.342655 & -74.690679\\\\\n",
       "\theight &    3.253112 &   3.646888\\\\\n",
       "\\end{tabular}\n"
      ],
      "text/markdown": [
       "\n",
       "A matrix: 2 × 2 of type dbl\n",
       "\n",
       "| <!--/--> | 2.5 % | 97.5 % |\n",
       "|---|---|---|\n",
       "| (Intercept) | -100.342655 | -74.690679 |\n",
       "| height |    3.253112 |   3.646888 |\n",
       "\n"
      ],
      "text/plain": [
       "            2.5 %       97.5 %    \n",
       "(Intercept) -100.342655 -74.690679\n",
       "height         3.253112   3.646888"
      ]
     },
     "metadata": {},
     "output_type": "display_data"
    }
   ],
   "source": [
    "confint(simple_linear_model)"
   ]
  },
  {
   "cell_type": "markdown",
   "metadata": {},
   "source": [
    "In this example, the correlation coefficient is large enough, so we can continue by building a linear model of y as a function of x."
   ]
  },
  {
   "cell_type": "code",
   "execution_count": 7,
   "metadata": {},
   "outputs": [
    {
     "data": {
      "text/html": [
       "0.995494767784216"
      ],
      "text/latex": [
       "0.995494767784216"
      ],
      "text/markdown": [
       "0.995494767784216"
      ],
      "text/plain": [
       "[1] 0.9954948"
      ]
     },
     "metadata": {},
     "output_type": "display_data"
    }
   ],
   "source": [
    "cor(women$height, women$weight)"
   ]
  },
  {
   "cell_type": "markdown",
   "metadata": {},
   "source": [
    "# Model accuracy - goodness of fit\n",
    "Once you identified that, at least, one predictor variable is significantly associated the outcome, you should continue the diagnostic by checking how well the model fits the data. \n",
    "This process is also referred to as the **goodness-of-fit**.\n",
    "\n",
    "The overall quality of the linear regression fit can be assessed using the following three quantities, displayed in the model summary:<br>\n",
    "**The Residual Standard Error (RSE)**.<br>\n",
    "The **R-squared (R2)**<br>\n",
    "**F-statistic**<br>\n",
    "\n",
    "Lets examine these goodness of fit values."
   ]
  },
  {
   "cell_type": "code",
   "execution_count": 8,
   "metadata": {},
   "outputs": [
    {
     "data": {
      "text/plain": [
       "\n",
       "Call:\n",
       "lm(formula = weight ~ height, data = women)\n",
       "\n",
       "Residuals:\n",
       "    Min      1Q  Median      3Q     Max \n",
       "-1.7333 -1.1333 -0.3833  0.7417  3.1167 \n",
       "\n",
       "Coefficients:\n",
       "             Estimate Std. Error t value Pr(>|t|)    \n",
       "(Intercept) -87.51667    5.93694  -14.74 1.71e-09 ***\n",
       "height        3.45000    0.09114   37.85 1.09e-14 ***\n",
       "---\n",
       "Signif. codes:  0 '***' 0.001 '**' 0.01 '*' 0.05 '.' 0.1 ' ' 1\n",
       "\n",
       "Residual standard error: 1.525 on 13 degrees of freedom\n",
       "Multiple R-squared:  0.991,\tAdjusted R-squared:  0.9903 \n",
       "F-statistic:  1433 on 1 and 13 DF,  p-value: 1.091e-14\n"
      ]
     },
     "metadata": {},
     "output_type": "display_data"
    }
   ],
   "source": [
    "# Rerunning summary command\n",
    "summary(simple_linear_model)"
   ]
  },
  {
   "cell_type": "markdown",
   "metadata": {},
   "source": [
    "### **Residual standard error (RSE)** \n",
    "This is the residual variation, representing average variation of observation points around the fitted regression line. This is the standard deviation of residual errors.\n",
    "\n",
    "RSE provides absolute measure of patterns in the data that can’t be explained by the model. When comparing two models, the model with the smallest RSE is a good indication that this model fits the best the data.\n",
    "\n",
    "Dividing the RSE by the average value of the outcome variable (1.525 in this example) will give you the prediction error rate, which should be as small as possible.\n",
    "\n",
    "In our example, RSE = 1.525, meaning that the observed weight values (inches) deviate from the true regression line by approximately 1.5 units on average.\n",
    "\n",
    "Whether or not an RSE of 1.525 units is an acceptable prediction error is subjective and depends on the problem context.\n",
    "\n",
    "### **R-squared (r2)**\n",
    "The **R-squared (R2)** ranges from 0 to 1 and represents the proportion of information (i.e. variation) in the data that can be explained by the model. \n",
    "\n",
    "The adjusted R-squared adjusts for the degrees of freedom.\n",
    "\n",
    "The R2  measures how well the model fits the data. For simple linear regression, R2 is the square of the Pearson correlation coefficient.\n",
    "\n",
    "A high value of R2  is a good indication. However, as the value of R2  tends to increase when more predictors are added in the model, such as in multiple linear regression model, you should mainly consider the adjusted R-squared, which is a penalised R2  for a higher number of predictors.\n",
    "\n",
    "An (adjusted) R2  that is close to 1 indicates that a large proportion of the variability in the outcome has been explained by the regression model. A number near 0 indicates that the regression model did not explain much of the variability in the outcome.\n",
    "\n",
    "### F-statistic\n",
    "\n",
    "The F-statistic gives the overall significance of the model. It assess whether at least one predictor variable has a non-zero coefficient.\n",
    "\n",
    "In a simple linear regression, this test is not really interesting since it just duplicates the information in given by the t-test, available in the coefficient table. In fact, the F test is identical to the square of the t test: 1433 = (37.85)^2. This is true in any model with 1 degree of freedom.\n",
    "\n",
    "The F-statistic becomes more important once we start using multiple predictors as in multiple linear regression.\n",
    "\n",
    "A large F-statistic will corresponds to a statistically significant p-value (p < 0.05). In our example, the F-statistic equal 1433 producing a p-value of 1.091e-14, which is highly significant."
   ]
  }
 ],
 "metadata": {
  "kernelspec": {
   "display_name": "R",
   "language": "R",
   "name": "ir"
  },
  "language_info": {
   "codemirror_mode": "r",
   "file_extension": ".r",
   "mimetype": "text/x-r-source",
   "name": "R",
   "pygments_lexer": "r",
   "version": "3.6.1"
  }
 },
 "nbformat": 4,
 "nbformat_minor": 4
}
